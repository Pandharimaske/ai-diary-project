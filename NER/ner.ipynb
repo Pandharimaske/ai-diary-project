{
 "cells": [
  {
   "cell_type": "code",
   "execution_count": 1,
   "metadata": {},
   "outputs": [],
   "source": [
    "# ! pip install langchain_community tiktoken langchain-openai langchainhub chromadb langchain"
   ]
  },
  {
   "cell_type": "code",
   "execution_count": 85,
   "metadata": {},
   "outputs": [],
   "source": [
    "import spacy\n",
    "import faiss\n",
    "import numpy as np\n",
    "import pandas as pd\n",
    "from sentence_transformers import SentenceTransformer\n",
    "from langchain.llms import HuggingFacePipeline\n",
    "from langchain.chains import LLMChain\n",
    "from langchain.prompts import PromptTemplate\n",
    "from transformers import pipeline"
   ]
  },
  {
   "cell_type": "code",
   "execution_count": 86,
   "metadata": {},
   "outputs": [],
   "source": [
    "# pip install sentence-transformers"
   ]
  },
  {
   "cell_type": "code",
   "execution_count": 87,
   "metadata": {},
   "outputs": [],
   "source": [
    "# Load spaCy model for NER\n",
    "nlp = spacy.load(\"en_core_web_sm\")\n",
    "\n",
    "# Load embedding model\n",
    "embed_model = SentenceTransformer(\"all-MiniLM-L6-v2\")\n",
    "\n",
    "# Load diary data from CSV\n",
    "df = pd.read_csv(\"/Users/pandhari/ai-diary-project/Data/diary_dataset.csv\", parse_dates=[\"Date\"])\n",
    "\n",
    "def extract_entities(text):\n",
    "    \"\"\"Extract named entities from text.\"\"\"\n",
    "    doc = nlp(text)\n",
    "    entities = {\"PERSON\": [], \"ORG\": [], \"GPE\": [], \"EVENT\": [], \"DATE\": []}\n",
    "    for ent in doc.ents:\n",
    "        if ent.label_ in entities:\n",
    "            entities[ent.label_].append(ent.text)\n",
    "    return entities"
   ]
  },
  {
   "cell_type": "code",
   "execution_count": 88,
   "metadata": {},
   "outputs": [],
   "source": [
    "# Process diary entries\n",
    "data = []\n",
    "embeddings = []\n",
    "\n",
    "for _, row in df.iterrows():\n",
    "    entities = extract_entities(row[\"Entry\"])\n",
    "    embedding = embed_model.encode(str(row[\"Date\"]) + row[\"Entry\"]).tolist()\n",
    "    embeddings.append(embedding)\n",
    "    \n",
    "    data.append({\n",
    "        \"date\": row[\"Date\"],\n",
    "        \"entry\": row[\"Entry\"],\n",
    "        \"entities\": entities\n",
    "    })\n",
    "\n",
    "df = pd.DataFrame(data)"
   ]
  },
  {
   "cell_type": "code",
   "execution_count": 89,
   "metadata": {},
   "outputs": [],
   "source": [
    "# Create FAISS index for fast retrieval\n",
    "embedding_dim = len(embeddings[0])  # Get embedding size\n",
    "index = faiss.IndexFlatL2(embedding_dim)  # L2 distance (Euclidean)\n",
    "index.add(np.array(embeddings, dtype=np.float32))\n",
    "\n",
    "def search_diary(query, top_k=1):\n",
    "    \"\"\"Search diary entries using semantic search.\"\"\"\n",
    "    query_vec = embed_model.encode([query])\n",
    "    distances, indices = index.search(query_vec, top_k)\n",
    "    results = [df.iloc[i][\"entry\"] for i in indices[0] if i < len(df)]\n",
    "    return results\n",
    "\n",
    "from langchain_community.llms import Ollama\n",
    "llm = Ollama(model=\"llama3.2\")"
   ]
  },
  {
   "cell_type": "code",
   "execution_count": 90,
   "metadata": {},
   "outputs": [],
   "source": [
    "# Define LLM prompt template\n",
    "prompt_template = PromptTemplate(\n",
    "    input_variables=[\"context\", \"question\"],\n",
    "    template=\"\"\"\n",
    "    You are an AI assistant that answers questions based on a personal diary.\n",
    "    Here are some relevant diary entries:\n",
    "    {context}\n",
    "    \n",
    "    Based on these, answer the following question:\n",
    "    {question}\n",
    "    \"\"\"\n",
    ")\n",
    "\n",
    "llm_chain = LLMChain(llm=llm, prompt=prompt_template)\n"
   ]
  },
  {
   "cell_type": "code",
   "execution_count": 91,
   "metadata": {},
   "outputs": [],
   "source": [
    "def ask_ai_diary(query):\n",
    "    retrieved_entries = search_diary(query)\n",
    "    context = \"\\n\".join(retrieved_entries) if retrieved_entries else \"No relevant diary entries found.\"\n",
    "    response = llm_chain.run({\"context\": context, \"question\": query})\n",
    "    return response"
   ]
  },
  {
   "cell_type": "code",
   "execution_count": 92,
   "metadata": {},
   "outputs": [
    {
     "name": "stdout",
     "output_type": "stream",
     "text": [
      "🤖 AI Diary Response: I don't have any information about specific dates or events from my personal diary. The entries you provided only mention that it was a day off, but they don't specify the date.\n",
      "\n",
      "However, based on the content of the diary entries, I can tell you that the activities mentioned were:\n",
      "\n",
      "* Sipping coffee at a cozy café\n",
      "* Watching people go about their day\n",
      "* Taking a spontaneous walk in the park\n",
      "\n",
      "Unfortunately, without more specific information, I couldn't determine which April 1st, 2024, these activities took place on.\n"
     ]
    }
   ],
   "source": [
    "# Example query\n",
    "query = \"What activities I did on April 1st, 2024?\"\n",
    "print(\"🤖 AI Diary Response:\", ask_ai_diary(query))"
   ]
  },
  {
   "cell_type": "code",
   "execution_count": null,
   "metadata": {},
   "outputs": [],
   "source": []
  }
 ],
 "metadata": {
  "kernelspec": {
   "display_name": "ai_diary",
   "language": "python",
   "name": "python3"
  },
  "language_info": {
   "codemirror_mode": {
    "name": "ipython",
    "version": 3
   },
   "file_extension": ".py",
   "mimetype": "text/x-python",
   "name": "python",
   "nbconvert_exporter": "python",
   "pygments_lexer": "ipython3",
   "version": "3.10.16"
  }
 },
 "nbformat": 4,
 "nbformat_minor": 2
}
